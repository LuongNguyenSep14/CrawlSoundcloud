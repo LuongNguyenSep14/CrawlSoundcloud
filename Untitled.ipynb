{
 "cells": [
  {
   "cell_type": "code",
   "execution_count": 1,
   "id": "a66ccac6",
   "metadata": {},
   "outputs": [
    {
     "name": "stdout",
     "output_type": "stream",
     "text": [
      "Import Complete!!!\n"
     ]
    }
   ],
   "source": [
    "from selenium import webdriver\n",
    "from selenium.webdriver.common.keys import Keys\n",
    "from selenium.webdriver.common.by import By\n",
    "from selenium.webdriver.support.ui import WebDriverWait\n",
    "from selenium.webdriver.support import expected_conditions as EC\n",
    "import time\n",
    "import pandas as pd\n",
    "import re\n",
    "print(\"Import Complete!!!\")"
   ]
  },
  {
   "cell_type": "code",
   "execution_count": 6,
   "id": "bea811e2",
   "metadata": {},
   "outputs": [],
   "source": [
    "driver = webdriver.Chrome('chromedriver.exe')\n",
    "\n",
    "driver.get('https://soundcloud.com/khoidarealest')\n",
    "driver.maximize_window()\n",
    "\n",
    "try:\n",
    "    accept_cookies = WebDriverWait(driver, 5).until(\n",
    "        EC.presence_of_element_located((By.XPATH, 'https://soundcloud.com/khoidarealest'))\n",
    "    )\n",
    "    accept_cookies.click()\n",
    "except:\n",
    "    pass\n",
    "\n",
    "time.sleep(3)"
   ]
  },
  {
   "cell_type": "code",
   "execution_count": 9,
   "id": "80b65950",
   "metadata": {},
   "outputs": [],
   "source": [
    "likes = 'None'\n",
    "comments = 'None'\n",
    "buffer = driver.find_elements_by_xpath('//a/h3/span[2]')\n",
    "if (len(buffer)) > 1:\n",
    "    del buffer[1]\n",
    "for i in buffer:\n",
    "    if 'likes' in i.text:\n",
    "        likes = i.text.replace(' likes', '')\n",
    "    elif 'like' in i.text:\n",
    "        likes = i.text.replace(' like', '')\n",
    "\n",
    "    if 'comments' in i.text:\n",
    "        comments = i.text.replace(' comments', '')\n",
    "    elif 'comment' in i.text:\n",
    "        comments = i.text.replace(' comment', '')"
   ]
  },
  {
   "cell_type": "code",
   "execution_count": 10,
   "id": "4c2edaa0",
   "metadata": {},
   "outputs": [
    {
     "name": "stdout",
     "output_type": "stream",
     "text": [
      "61 152\n"
     ]
    }
   ],
   "source": [
    "print(likes, comments)"
   ]
  },
  {
   "cell_type": "code",
   "execution_count": null,
   "id": "20a89ba7",
   "metadata": {},
   "outputs": [],
   "source": []
  }
 ],
 "metadata": {
  "kernelspec": {
   "display_name": "Python 3 (ipykernel)",
   "language": "python",
   "name": "python3"
  },
  "language_info": {
   "codemirror_mode": {
    "name": "ipython",
    "version": 3
   },
   "file_extension": ".py",
   "mimetype": "text/x-python",
   "name": "python",
   "nbconvert_exporter": "python",
   "pygments_lexer": "ipython3",
   "version": "3.8.8"
  }
 },
 "nbformat": 4,
 "nbformat_minor": 5
}
